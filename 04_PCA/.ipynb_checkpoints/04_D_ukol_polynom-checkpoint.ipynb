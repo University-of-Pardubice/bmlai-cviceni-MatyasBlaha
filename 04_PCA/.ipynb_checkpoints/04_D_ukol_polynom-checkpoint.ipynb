{
 "cells": [
  {
   "cell_type": "markdown",
   "id": "efd730e4-0565-4b7e-8caf-cfe8b527b655",
   "metadata": {},
   "source": [
    "# Polynominální regrese\n",
    "\n",
    "## Úkol\n",
    "\n",
    "- Načtěte dataset s velikostmi a cenami\n",
    "- Prozkoumejte a zobrazte data\n",
    "- Vytvořte lineární model a zjistětě jaho R2\n",
    "- Vytvořte polynomiální modely s různým stupni, zjistěte jejich R2\n",
    "- Vyberte nejlepší model "
   ]
  },
  {
   "cell_type": "markdown",
   "id": "f037e435",
   "metadata": {},
   "source": [
    "# Načtení dat"
   ]
  },
  {
   "cell_type": "code",
   "execution_count": 1,
   "id": "52750eb3-4b2f-4673-b750-2f2e824da62b",
   "metadata": {
    "tags": []
   },
   "outputs": [],
   "source": [
    "import pandas as pd "
   ]
  },
  {
   "cell_type": "code",
   "execution_count": 2,
   "id": "17d43105-a5d6-44a6-99a8-4d6a6af286df",
   "metadata": {
    "tags": []
   },
   "outputs": [],
   "source": [
    "data = pd.read_csv (\"..\\dataset\\prices.csv\",  sep=';')"
   ]
  },
  {
   "cell_type": "code",
   "execution_count": null,
   "id": "88f490c5-88a2-40c7-8e4b-1b1109050475",
   "metadata": {},
   "outputs": [],
   "source": [
    "data.head()"
   ]
  },
  {
   "cell_type": "markdown",
   "id": "9467aecc",
   "metadata": {},
   "source": [
    "# Lineární model\n",
    "- standardizujte data\n",
    "- vytvořte a natrénujte lineární model\n",
    "- zobrazte parametry modelu\n",
    "- vizualizujte lineární model\n",
    "- zobrazte skóre modelu"
   ]
  },
  {
   "cell_type": "code",
   "execution_count": null,
   "id": "c4ba124f-22ec-444c-8f9a-61fa0c00f723",
   "metadata": {},
   "outputs": [],
   "source": [
    "def rescale(X):\n",
    "    mean = X.mean()\n",
    "    std = X.std()\n",
    "    scaled_X = [(i - mean)/std for i in X]\n",
    "    return pd.Series(scaled_X)"
   ]
  },
  {
   "cell_type": "code",
   "execution_count": null,
   "id": "534a5f19-7134-470f-bdb8-49fdda6856d5",
   "metadata": {},
   "outputs": [],
   "source": [
    "data_std = pd.DataFrame(columns=data.columns)\n",
    "for i in data.columns:\n",
    "    data_std[i] = rescale(data[i])"
   ]
  },
  {
   "cell_type": "code",
   "execution_count": null,
   "id": "c6ae169e-b207-4636-8a3b-c5889ca93f9f",
   "metadata": {},
   "outputs": [],
   "source": [
    "from sklearn.linear_model import LinearRegression\n",
    "from sklearn.metrics import r2_score\n",
    "from sklearn.metrics import mean_squared_error\n",
    "from sklearn.model_selection import train_test_split"
   ]
  },
  {
   "cell_type": "code",
   "execution_count": null,
   "id": "b5ac70da-12da-445b-8d35-9ac4264a4d1a",
   "metadata": {},
   "outputs": [],
   "source": [
    "import pandas as pd\n",
    "import numpy as np\n",
    "import matplotlib.pyplot as plt\n",
    "import seaborn as sns\n",
    "from sklearn.linear_model import LinearRegression\n",
    "from sklearn.preprocessing import PolynomialFeatures\n",
    "from sklearn.metrics import r2_score, mean_squared_error\n",
    "from sklearn.model_selection import train_test_split"
   ]
  },
  {
   "cell_type": "code",
   "execution_count": null,
   "id": "bc6666fc-51ec-4e80-ba70-33cfa7306dbb",
   "metadata": {},
   "outputs": [],
   "source": [
    "X = np.array(data.drop('Price',axis=1))\n",
    "Y = np.array(data['Price'])\n",
    "X_train, X_test, Y_train, Y_test = train_test_split(X, Y, test_size=0.2)"
   ]
  },
  {
   "cell_type": "code",
   "execution_count": null,
   "id": "a0db8b2a-5b53-4518-8301-6f8147df3c56",
   "metadata": {},
   "outputs": [],
   "source": [
    "\n",
    "lr = LinearRegression()\n",
    "lr.fit(X_train, Y_train)"
   ]
  },
  {
   "cell_type": "code",
   "execution_count": null,
   "id": "5d6d7999-beac-42e9-8fac-9f0eb05b94f5",
   "metadata": {},
   "outputs": [],
   "source": [
    "Y_pred = lr.predict(X_test)\n",
    "r2 = r2_score(Y_test, Y_pred)\n",
    "rmse = np.sqrt(mean_squared_error(Y_test, Y_pred))\n",
    "\n",
    "print(f\"R2 score: {r2}\")\n",
    "print(f\"RMSE: {rmse}\")"
   ]
  },
  {
   "cell_type": "code",
   "execution_count": null,
   "id": "ad358068-ad2e-44cc-b37c-de7f0ddc20d8",
   "metadata": {},
   "outputs": [],
   "source": [
    "Y_pred = lr.predict(X_train)\n",
    "r2 = r2_score(Y_train, Y_pred)\n",
    "rmse = np.sqrt(mean_squared_error(Y_train, Y_pred))\n",
    "\n",
    "print(f\"R2 score: {r2}\")\n",
    "print(f\"RMSE: {rmse}\")"
   ]
  },
  {
   "cell_type": "code",
   "execution_count": null,
   "id": "50bbdabb-8d48-4d51-80af-25599ead1f26",
   "metadata": {},
   "outputs": [],
   "source": [
    "print(\"Parametry modelu:\")\n",
    "print(f\"Váhy: {lr.coef_}\")\n",
    "print(f\"Bias: {lr.intercept_}\")"
   ]
  },
  {
   "cell_type": "code",
   "execution_count": null,
   "id": "2a902a7e-69e7-4af7-93f0-309fd795629f",
   "metadata": {},
   "outputs": [],
   "source": [
    "plt.figure(figsize=(10, 6))\n",
    "plt.scatter(X_train, Y_train, color='blue', label='Trénovací data')\n",
    "plt.scatter(X_test, Y_test, color='green', label='Testovací data')\n",
    "plt.plot(X_train, lr.predict(X_train), color='red', label='Lineární model')\n",
    "plt.xlabel('Standardizovaná velikost')\n",
    "plt.ylabel('Cena')\n",
    "plt.title('Lineární model - Velikost vs. Cena')\n",
    "plt.legend()\n",
    "plt.show()"
   ]
  },
  {
   "cell_type": "code",
   "execution_count": null,
   "id": "8819d3f3-f6f1-4893-a491-4f18aade6bc2",
   "metadata": {},
   "outputs": [],
   "source": [
    "train_score = lr.score(X_train, Y_train)\n",
    "test_score = lr.score(X_test, Y_test)\n",
    "print(f\"\\nSkóre modelu (R^2):\")\n",
    "print(f\"Trénovací data: {train_score:.4f}\")\n",
    "print(f\"Testovací data: {test_score:.4f}\")\n"
   ]
  },
  {
   "cell_type": "markdown",
   "id": "f60da968",
   "metadata": {},
   "source": [
    "# Vytvořte polynominální regresní model\n",
    "- vytvořte model polynominální 1D model se stupni 2 - 8\n",
    "- modely zobrazte\n",
    "- zobrazte jejich parametry\n",
    "- zobrazte jejich skóre\n",
    "- Který model byste vybrali?"
   ]
  },
  {
   "cell_type": "code",
   "execution_count": null,
   "id": "0569ad85-4308-4881-aa84-bb8312103a34",
   "metadata": {},
   "outputs": [],
   "source": []
  }
 ],
 "metadata": {
  "kernelspec": {
   "display_name": "Python 3 (ipykernel)",
   "language": "python",
   "name": "python3"
  },
  "language_info": {
   "codemirror_mode": {
    "name": "ipython",
    "version": 3
   },
   "file_extension": ".py",
   "mimetype": "text/x-python",
   "name": "python",
   "nbconvert_exporter": "python",
   "pygments_lexer": "ipython3",
   "version": "3.13.2"
  }
 },
 "nbformat": 4,
 "nbformat_minor": 5
}
