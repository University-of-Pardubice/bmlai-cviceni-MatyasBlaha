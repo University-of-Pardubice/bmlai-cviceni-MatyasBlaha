{
 "cells": [
  {
   "cell_type": "markdown",
   "id": "efd730e4-0565-4b7e-8caf-cfe8b527b655",
   "metadata": {},
   "source": [
    "# Analýza hlavních komponent\n",
    "\n",
    "## Úkol\n",
    "\n",
    "- V datasetu Portland Housing Prices/Sales Jul 2020 - Jul 2021 zjistěte, jestli je zde problém multikolinearity.\n",
    "- Proveďte analyzu hlavních komponent\n",
    "- Vytvořte lineární model z PCA a model porovnejte s minulým cvičením"
   ]
  },
  {
   "cell_type": "markdown",
   "id": "b4c81f14",
   "metadata": {},
   "source": [
    "# Načtení dat"
   ]
  },
  {
   "cell_type": "code",
   "execution_count": 1,
   "id": "52750eb3-4b2f-4673-b750-2f2e824da62b",
   "metadata": {
    "tags": []
   },
   "outputs": [],
   "source": [
    "import matplotlib.pyplot as plt\n",
    "import pandas as pd\n",
    "import seaborn as sns\n",
    "import numpy as np"
   ]
  },
  {
   "cell_type": "code",
   "execution_count": 3,
   "id": "17d43105-a5d6-44a6-99a8-4d6a6af286df",
   "metadata": {
    "tags": []
   },
   "outputs": [],
   "source": [
    "data = pd.read_csv (\"../dataset/portland_filtered.csv\",  sep=';')"
   ]
  },
  {
   "cell_type": "code",
   "execution_count": 4,
   "id": "9f3d7618-4ab3-45ef-b75b-68eda7c7712c",
   "metadata": {},
   "outputs": [],
   "source": [
    "data=data.dropna()"
   ]
  },
  {
   "cell_type": "code",
   "execution_count": 5,
   "id": "97c9538f-becd-41b9-9e80-eb775e641c76",
   "metadata": {},
   "outputs": [
    {
     "data": {
      "text/html": [
       "<div>\n",
       "<style scoped>\n",
       "    .dataframe tbody tr th:only-of-type {\n",
       "        vertical-align: middle;\n",
       "    }\n",
       "\n",
       "    .dataframe tbody tr th {\n",
       "        vertical-align: top;\n",
       "    }\n",
       "\n",
       "    .dataframe thead th {\n",
       "        text-align: right;\n",
       "    }\n",
       "</style>\n",
       "<table border=\"1\" class=\"dataframe\">\n",
       "  <thead>\n",
       "    <tr style=\"text-align: right;\">\n",
       "      <th></th>\n",
       "      <th>bathrooms</th>\n",
       "      <th>bedrooms</th>\n",
       "      <th>livingArea</th>\n",
       "      <th>age</th>\n",
       "      <th>price</th>\n",
       "    </tr>\n",
       "  </thead>\n",
       "  <tbody>\n",
       "    <tr>\n",
       "      <th>0</th>\n",
       "      <td>3</td>\n",
       "      <td>5</td>\n",
       "      <td>3470</td>\n",
       "      <td>7</td>\n",
       "      <td>1165000</td>\n",
       "    </tr>\n",
       "    <tr>\n",
       "      <th>1</th>\n",
       "      <td>4</td>\n",
       "      <td>5</td>\n",
       "      <td>3374</td>\n",
       "      <td>85</td>\n",
       "      <td>1050000</td>\n",
       "    </tr>\n",
       "    <tr>\n",
       "      <th>2</th>\n",
       "      <td>3</td>\n",
       "      <td>3</td>\n",
       "      <td>3265</td>\n",
       "      <td>20</td>\n",
       "      <td>442500</td>\n",
       "    </tr>\n",
       "    <tr>\n",
       "      <th>3</th>\n",
       "      <td>3</td>\n",
       "      <td>3</td>\n",
       "      <td>3192</td>\n",
       "      <td>36</td>\n",
       "      <td>765000</td>\n",
       "    </tr>\n",
       "    <tr>\n",
       "      <th>4</th>\n",
       "      <td>3</td>\n",
       "      <td>4</td>\n",
       "      <td>3157</td>\n",
       "      <td>73</td>\n",
       "      <td>815000</td>\n",
       "    </tr>\n",
       "  </tbody>\n",
       "</table>\n",
       "</div>"
      ],
      "text/plain": [
       "   bathrooms  bedrooms  livingArea  age    price\n",
       "0          3         5        3470    7  1165000\n",
       "1          4         5        3374   85  1050000\n",
       "2          3         3        3265   20   442500\n",
       "3          3         3        3192   36   765000\n",
       "4          3         4        3157   73   815000"
      ]
     },
     "execution_count": 5,
     "metadata": {},
     "output_type": "execute_result"
    }
   ],
   "source": [
    "data.head()"
   ]
  },
  {
   "cell_type": "code",
   "execution_count": 6,
   "id": "d435dd79-7dd5-4c32-9478-a4eb1058cddd",
   "metadata": {},
   "outputs": [
    {
     "data": {
      "text/html": [
       "<div>\n",
       "<style scoped>\n",
       "    .dataframe tbody tr th:only-of-type {\n",
       "        vertical-align: middle;\n",
       "    }\n",
       "\n",
       "    .dataframe tbody tr th {\n",
       "        vertical-align: top;\n",
       "    }\n",
       "\n",
       "    .dataframe thead th {\n",
       "        text-align: right;\n",
       "    }\n",
       "</style>\n",
       "<table border=\"1\" class=\"dataframe\">\n",
       "  <thead>\n",
       "    <tr style=\"text-align: right;\">\n",
       "      <th></th>\n",
       "      <th>bathrooms</th>\n",
       "      <th>bedrooms</th>\n",
       "      <th>livingArea</th>\n",
       "      <th>age</th>\n",
       "      <th>price</th>\n",
       "    </tr>\n",
       "  </thead>\n",
       "  <tbody>\n",
       "    <tr>\n",
       "      <th>count</th>\n",
       "      <td>100.000000</td>\n",
       "      <td>100.000000</td>\n",
       "      <td>100.000000</td>\n",
       "      <td>100.00000</td>\n",
       "      <td>1.000000e+02</td>\n",
       "    </tr>\n",
       "    <tr>\n",
       "      <th>mean</th>\n",
       "      <td>2.380000</td>\n",
       "      <td>3.260000</td>\n",
       "      <td>1974.080000</td>\n",
       "      <td>49.88000</td>\n",
       "      <td>5.196074e+05</td>\n",
       "    </tr>\n",
       "    <tr>\n",
       "      <th>std</th>\n",
       "      <td>0.838228</td>\n",
       "      <td>0.860115</td>\n",
       "      <td>663.629851</td>\n",
       "      <td>32.77973</td>\n",
       "      <td>1.722241e+05</td>\n",
       "    </tr>\n",
       "    <tr>\n",
       "      <th>min</th>\n",
       "      <td>1.000000</td>\n",
       "      <td>1.000000</td>\n",
       "      <td>766.000000</td>\n",
       "      <td>3.00000</td>\n",
       "      <td>1.650000e+05</td>\n",
       "    </tr>\n",
       "    <tr>\n",
       "      <th>25%</th>\n",
       "      <td>2.000000</td>\n",
       "      <td>3.000000</td>\n",
       "      <td>1530.000000</td>\n",
       "      <td>20.00000</td>\n",
       "      <td>4.125000e+05</td>\n",
       "    </tr>\n",
       "    <tr>\n",
       "      <th>50%</th>\n",
       "      <td>2.000000</td>\n",
       "      <td>3.000000</td>\n",
       "      <td>1859.000000</td>\n",
       "      <td>47.50000</td>\n",
       "      <td>5.000000e+05</td>\n",
       "    </tr>\n",
       "    <tr>\n",
       "      <th>75%</th>\n",
       "      <td>3.000000</td>\n",
       "      <td>4.000000</td>\n",
       "      <td>2490.250000</td>\n",
       "      <td>75.25000</td>\n",
       "      <td>5.995312e+05</td>\n",
       "    </tr>\n",
       "    <tr>\n",
       "      <th>max</th>\n",
       "      <td>5.000000</td>\n",
       "      <td>6.000000</td>\n",
       "      <td>3470.000000</td>\n",
       "      <td>114.00000</td>\n",
       "      <td>1.165000e+06</td>\n",
       "    </tr>\n",
       "  </tbody>\n",
       "</table>\n",
       "</div>"
      ],
      "text/plain": [
       "        bathrooms    bedrooms   livingArea        age         price\n",
       "count  100.000000  100.000000   100.000000  100.00000  1.000000e+02\n",
       "mean     2.380000    3.260000  1974.080000   49.88000  5.196074e+05\n",
       "std      0.838228    0.860115   663.629851   32.77973  1.722241e+05\n",
       "min      1.000000    1.000000   766.000000    3.00000  1.650000e+05\n",
       "25%      2.000000    3.000000  1530.000000   20.00000  4.125000e+05\n",
       "50%      2.000000    3.000000  1859.000000   47.50000  5.000000e+05\n",
       "75%      3.000000    4.000000  2490.250000   75.25000  5.995312e+05\n",
       "max      5.000000    6.000000  3470.000000  114.00000  1.165000e+06"
      ]
     },
     "execution_count": 6,
     "metadata": {},
     "output_type": "execute_result"
    }
   ],
   "source": [
    "data.describe()"
   ]
  },
  {
   "cell_type": "markdown",
   "id": "e6f65264",
   "metadata": {},
   "source": [
    "# Analýza\n",
    "- zobrazte data\n",
    "- vyřešte NaN hodnoty\n",
    "- zobrazte základní statistiky dat\n",
    "- zobrazte korelační matici"
   ]
  },
  {
   "cell_type": "markdown",
   "id": "bec6c849",
   "metadata": {},
   "source": [
    "# Příprava dat\n",
    "- vyberte X promenné bathrooms', 'bedrooms', 'livingArea','age','price'\n",
    "- proměnné standardizujte"
   ]
  },
  {
   "cell_type": "markdown",
   "id": "c8132c2b",
   "metadata": {},
   "source": [
    "# Zobrazte VIF pro každou proměnnou"
   ]
  },
  {
   "cell_type": "markdown",
   "id": "e1412474",
   "metadata": {},
   "source": [
    "# PCA\n",
    "- Proveďte PCA\n",
    "- zobrazte korelační matici"
   ]
  },
  {
   "cell_type": "markdown",
   "id": "5d5d82c8",
   "metadata": {},
   "source": [
    "# Lineární model\n",
    "- Vytvořte a natrénujte Lineární model pro PCA proměnné\n",
    "- Zobrazte R2 a RMSE"
   ]
  }
 ],
 "metadata": {
  "kernelspec": {
   "display_name": "Python 3 (ipykernel)",
   "language": "python",
   "name": "python3"
  },
  "language_info": {
   "codemirror_mode": {
    "name": "ipython",
    "version": 3
   },
   "file_extension": ".py",
   "mimetype": "text/x-python",
   "name": "python",
   "nbconvert_exporter": "python",
   "pygments_lexer": "ipython3",
   "version": "3.13.2"
  }
 },
 "nbformat": 4,
 "nbformat_minor": 5
}
